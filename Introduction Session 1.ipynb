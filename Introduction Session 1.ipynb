{
 "cells": [
  {
   "cell_type": "markdown",
   "id": "649a6d9e",
   "metadata": {},
   "source": [
    "# Intro Session "
   ]
  },
  {
   "cell_type": "markdown",
   "id": "a683898b",
   "metadata": {},
   "source": [
    "# This is my Heading 1\n",
    "## This is my Heading 2\n",
    "### This is my Heading 3\n",
    "#### This is my Heading 4"
   ]
  },
  {
   "cell_type": "markdown",
   "id": "fdc829ca",
   "metadata": {},
   "source": [
    "This is my explaination"
   ]
  },
  {
   "cell_type": "code",
   "execution_count": 1,
   "id": "c9762e8e",
   "metadata": {},
   "outputs": [
    {
     "name": "stdout",
     "output_type": "stream",
     "text": [
      "33\n"
     ]
    }
   ],
   "source": [
    "a = 10\n",
    "b = 23\n",
    "print(a+b)"
   ]
  },
  {
   "cell_type": "code",
   "execution_count": null,
   "id": "082d6d5a",
   "metadata": {},
   "outputs": [],
   "source": []
  },
  {
   "cell_type": "code",
   "execution_count": 2,
   "id": "a48848f1",
   "metadata": {},
   "outputs": [
    {
     "name": "stdout",
     "output_type": "stream",
     "text": [
      "230\n"
     ]
    }
   ],
   "source": [
    "print(a*b)"
   ]
  },
  {
   "cell_type": "code",
   "execution_count": 7,
   "id": "c24be3d9",
   "metadata": {},
   "outputs": [
    {
     "name": "stdout",
     "output_type": "stream",
     "text": [
      "0.43478260869565216\n"
     ]
    }
   ],
   "source": [
    "print(a/b)"
   ]
  },
  {
   "cell_type": "markdown",
   "id": "db94a972",
   "metadata": {},
   "source": [
    "### Different functionalities in Jupyter notebook\n",
    "1. Adding Cells in notebook ----> Select the cell and click + symbol to add cell\n",
    "2. How to remove cells ---> Scissor symbol\n",
    "3. Executing Cells ----> Run button (Shift + Enter)\n",
    "4. Shifting Cells up and down ----> Use arrow keys"
   ]
  },
  {
   "cell_type": "markdown",
   "id": "892f9427",
   "metadata": {},
   "source": [
    "### Interrupting kernel --> Stop button"
   ]
  },
  {
   "cell_type": "code",
   "execution_count": null,
   "id": "f8ae556f",
   "metadata": {},
   "outputs": [],
   "source": [
    "for i in range(100):\n",
    "    print(i*i)"
   ]
  },
  {
   "cell_type": "code",
   "execution_count": 9,
   "id": "93d29eef",
   "metadata": {},
   "outputs": [
    {
     "data": {
      "text/plain": [
       "34"
      ]
     },
     "execution_count": 9,
     "metadata": {},
     "output_type": "execute_result"
    }
   ],
   "source": [
    "10+24"
   ]
  },
  {
   "cell_type": "raw",
   "id": "05fca4d1",
   "metadata": {},
   "source": [
    "<h1> Heading 1 <"
   ]
  }
 ],
 "metadata": {
  "kernelspec": {
   "display_name": "Python 3 (ipykernel)",
   "language": "python",
   "name": "python3"
  },
  "language_info": {
   "codemirror_mode": {
    "name": "ipython",
    "version": 3
   },
   "file_extension": ".py",
   "mimetype": "text/x-python",
   "name": "python",
   "nbconvert_exporter": "python",
   "pygments_lexer": "ipython3",
   "version": "3.9.7"
  }
 },
 "nbformat": 4,
 "nbformat_minor": 5
}
