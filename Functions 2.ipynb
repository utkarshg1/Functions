{
 "cells": [
  {
   "cell_type": "markdown",
   "id": "2d59d717",
   "metadata": {},
   "source": [
    "# Functions 2 "
   ]
  },
  {
   "cell_type": "code",
   "execution_count": 1,
   "id": "5a9d3cce",
   "metadata": {},
   "outputs": [],
   "source": [
    "def even_odd(n:int):\n",
    "    if n%2==0:\n",
    "        s = 'even'\n",
    "    else:\n",
    "        s = 'odd'\n",
    "    return s"
   ]
  },
  {
   "cell_type": "code",
   "execution_count": 2,
   "id": "5388ac44",
   "metadata": {},
   "outputs": [
    {
     "data": {
      "text/plain": [
       "'odd'"
      ]
     },
     "execution_count": 2,
     "metadata": {},
     "output_type": "execute_result"
    }
   ],
   "source": [
    "even_odd(5)"
   ]
  },
  {
   "cell_type": "code",
   "execution_count": 3,
   "id": "734a53e7",
   "metadata": {},
   "outputs": [
    {
     "data": {
      "text/plain": [
       "'even'"
      ]
     },
     "execution_count": 3,
     "metadata": {},
     "output_type": "execute_result"
    }
   ],
   "source": [
    "even_odd(104)"
   ]
  },
  {
   "cell_type": "code",
   "execution_count": 4,
   "id": "73e86b19",
   "metadata": {},
   "outputs": [],
   "source": [
    "a = even_odd(107)"
   ]
  },
  {
   "cell_type": "code",
   "execution_count": 5,
   "id": "c90678cc",
   "metadata": {},
   "outputs": [
    {
     "name": "stdout",
     "output_type": "stream",
     "text": [
      "odd\n"
     ]
    }
   ],
   "source": [
    "print(a)"
   ]
  },
  {
   "cell_type": "markdown",
   "id": "f6811450",
   "metadata": {},
   "source": [
    "## Generator functions\n",
    "Main goal is to generate a sequence of outputs\n",
    "eg. Generate a sequnce of square of number 1, 4, 9, 16, 25, 36 ...."
   ]
  },
  {
   "cell_type": "code",
   "execution_count": 6,
   "id": "5adfc677",
   "metadata": {},
   "outputs": [
    {
     "data": {
      "text/plain": [
       "range(1, 10)"
      ]
     },
     "execution_count": 6,
     "metadata": {},
     "output_type": "execute_result"
    }
   ],
   "source": [
    "range(1,10,1)"
   ]
  },
  {
   "cell_type": "code",
   "execution_count": 7,
   "id": "1e2eee7e",
   "metadata": {},
   "outputs": [
    {
     "data": {
      "text/plain": [
       "[1, 2, 3, 4, 5, 6, 7, 8, 9]"
      ]
     },
     "execution_count": 7,
     "metadata": {},
     "output_type": "execute_result"
    }
   ],
   "source": [
    "list(range(1,10,1))"
   ]
  },
  {
   "cell_type": "code",
   "execution_count": 8,
   "id": "f09801b3",
   "metadata": {},
   "outputs": [
    {
     "name": "stdout",
     "output_type": "stream",
     "text": [
      "1\n",
      "2\n",
      "3\n",
      "4\n",
      "5\n",
      "6\n",
      "7\n",
      "8\n",
      "9\n"
     ]
    }
   ],
   "source": [
    "for i in range(1,10,1):\n",
    "    print(i)"
   ]
  },
  {
   "cell_type": "markdown",
   "id": "2597b281",
   "metadata": {},
   "source": [
    "### Create a generator function to return sequence of square of numbers"
   ]
  },
  {
   "cell_type": "code",
   "execution_count": 9,
   "id": "f9a5d4f5",
   "metadata": {},
   "outputs": [],
   "source": [
    "def square_seq(n):\n",
    "    for i in range(1,n+1,1):\n",
    "        yield i**2"
   ]
  },
  {
   "cell_type": "code",
   "execution_count": 10,
   "id": "95ac779e",
   "metadata": {},
   "outputs": [
    {
     "data": {
      "text/plain": [
       "<generator object square_seq at 0x0000019A18361DD0>"
      ]
     },
     "execution_count": 10,
     "metadata": {},
     "output_type": "execute_result"
    }
   ],
   "source": [
    "square_seq(10)"
   ]
  },
  {
   "cell_type": "code",
   "execution_count": 11,
   "id": "054377be",
   "metadata": {},
   "outputs": [
    {
     "name": "stdout",
     "output_type": "stream",
     "text": [
      "1\n",
      "4\n",
      "9\n",
      "16\n",
      "25\n",
      "36\n",
      "49\n",
      "64\n",
      "81\n",
      "100\n"
     ]
    }
   ],
   "source": [
    "for i in square_seq(10):\n",
    "    print(i)"
   ]
  },
  {
   "cell_type": "code",
   "execution_count": 12,
   "id": "a917599d",
   "metadata": {},
   "outputs": [],
   "source": [
    "def square_seq1(n):\n",
    "    for i in range(1,n+1,1):\n",
    "        return i**2"
   ]
  },
  {
   "cell_type": "code",
   "execution_count": 13,
   "id": "44fc14a7",
   "metadata": {},
   "outputs": [
    {
     "data": {
      "text/plain": [
       "1"
      ]
     },
     "execution_count": 13,
     "metadata": {},
     "output_type": "execute_result"
    }
   ],
   "source": [
    "square_seq1(20)"
   ]
  },
  {
   "cell_type": "code",
   "execution_count": 14,
   "id": "323621c1",
   "metadata": {},
   "outputs": [
    {
     "data": {
      "text/plain": [
       "[1, 2, 3, 4, 5, 6, 7, 8, 9, 10, 11, 12, 13, 14, 15, 16, 17, 18, 19, 20]"
      ]
     },
     "execution_count": 14,
     "metadata": {},
     "output_type": "execute_result"
    }
   ],
   "source": [
    "list(range(1,21,1))"
   ]
  },
  {
   "cell_type": "markdown",
   "id": "f6788074",
   "metadata": {},
   "source": [
    "### Generate Fibonacci sequence"
   ]
  },
  {
   "cell_type": "code",
   "execution_count": 15,
   "id": "407c6647",
   "metadata": {},
   "outputs": [],
   "source": [
    "def fib_seq(n):\n",
    "    a, b = 0, 1\n",
    "    for i in range(n+1):\n",
    "        yield a\n",
    "        a, b = b, a+b"
   ]
  },
  {
   "cell_type": "code",
   "execution_count": 16,
   "id": "5a9010ac",
   "metadata": {},
   "outputs": [
    {
     "data": {
      "text/plain": [
       "<generator object fib_seq at 0x0000019A1841C270>"
      ]
     },
     "execution_count": 16,
     "metadata": {},
     "output_type": "execute_result"
    }
   ],
   "source": [
    "fib_seq(5)"
   ]
  },
  {
   "cell_type": "code",
   "execution_count": 17,
   "id": "5ee9c8c5",
   "metadata": {},
   "outputs": [
    {
     "name": "stdout",
     "output_type": "stream",
     "text": [
      "0\n",
      "1\n",
      "1\n",
      "2\n",
      "3\n",
      "5\n"
     ]
    }
   ],
   "source": [
    "for i in fib_seq(5):\n",
    "    print(i)"
   ]
  },
  {
   "cell_type": "code",
   "execution_count": 18,
   "id": "ec9749b1",
   "metadata": {},
   "outputs": [],
   "source": [
    "fib = []\n",
    "for i in fib_seq(10):\n",
    "    fib.append(i)"
   ]
  },
  {
   "cell_type": "code",
   "execution_count": 19,
   "id": "0d5bf492",
   "metadata": {},
   "outputs": [
    {
     "data": {
      "text/plain": [
       "[0, 1, 1, 2, 3, 5, 8, 13, 21, 34, 55]"
      ]
     },
     "execution_count": 19,
     "metadata": {},
     "output_type": "execute_result"
    }
   ],
   "source": [
    "fib"
   ]
  },
  {
   "cell_type": "markdown",
   "id": "b8ccc2cd",
   "metadata": {},
   "source": [
    "### Anonymous function or Lambda function"
   ]
  },
  {
   "cell_type": "markdown",
   "id": "bcb745c5",
   "metadata": {},
   "source": [
    "### Create a lambda function to output square of a given number"
   ]
  },
  {
   "cell_type": "code",
   "execution_count": 20,
   "id": "ab6d6634",
   "metadata": {},
   "outputs": [],
   "source": [
    "sqr = lambda n: n**2"
   ]
  },
  {
   "cell_type": "code",
   "execution_count": 21,
   "id": "033d73fc",
   "metadata": {},
   "outputs": [
    {
     "data": {
      "text/plain": [
       "4"
      ]
     },
     "execution_count": 21,
     "metadata": {},
     "output_type": "execute_result"
    }
   ],
   "source": [
    "sqr(2)"
   ]
  },
  {
   "cell_type": "code",
   "execution_count": 22,
   "id": "aa1189e5",
   "metadata": {},
   "outputs": [
    {
     "data": {
      "text/plain": [
       "2.25"
      ]
     },
     "execution_count": 22,
     "metadata": {},
     "output_type": "execute_result"
    }
   ],
   "source": [
    "sqr(1.5)"
   ]
  },
  {
   "cell_type": "code",
   "execution_count": 23,
   "id": "0978cbe9",
   "metadata": {},
   "outputs": [],
   "source": [
    "def square(n):\n",
    "    return n**2"
   ]
  },
  {
   "cell_type": "code",
   "execution_count": 24,
   "id": "367e40bf",
   "metadata": {},
   "outputs": [
    {
     "data": {
      "text/plain": [
       "16"
      ]
     },
     "execution_count": 24,
     "metadata": {},
     "output_type": "execute_result"
    }
   ],
   "source": [
    "square(4)"
   ]
  },
  {
   "cell_type": "markdown",
   "id": "e626193a",
   "metadata": {},
   "source": [
    "### Even odd function using lambda"
   ]
  },
  {
   "cell_type": "code",
   "execution_count": 25,
   "id": "cb847992",
   "metadata": {},
   "outputs": [],
   "source": [
    "even_odd1 = lambda n: 'even' if n%2==0 else 'odd'"
   ]
  },
  {
   "cell_type": "code",
   "execution_count": 26,
   "id": "69dc0ace",
   "metadata": {},
   "outputs": [
    {
     "data": {
      "text/plain": [
       "'odd'"
      ]
     },
     "execution_count": 26,
     "metadata": {},
     "output_type": "execute_result"
    }
   ],
   "source": [
    "even_odd1(205)"
   ]
  },
  {
   "cell_type": "code",
   "execution_count": 27,
   "id": "268e982f",
   "metadata": {},
   "outputs": [
    {
     "data": {
      "text/plain": [
       "'even'"
      ]
     },
     "execution_count": 27,
     "metadata": {},
     "output_type": "execute_result"
    }
   ],
   "source": [
    "even_odd1(208)"
   ]
  },
  {
   "cell_type": "markdown",
   "id": "86049f66",
   "metadata": {},
   "source": [
    "### Map function"
   ]
  },
  {
   "cell_type": "code",
   "execution_count": 28,
   "id": "ac062625",
   "metadata": {},
   "outputs": [],
   "source": [
    "f = lambda x: x+1"
   ]
  },
  {
   "cell_type": "code",
   "execution_count": 29,
   "id": "a4651737",
   "metadata": {},
   "outputs": [
    {
     "data": {
      "text/plain": [
       "3"
      ]
     },
     "execution_count": 29,
     "metadata": {},
     "output_type": "execute_result"
    }
   ],
   "source": [
    "f(2)"
   ]
  },
  {
   "cell_type": "code",
   "execution_count": 30,
   "id": "b3ca80e1",
   "metadata": {},
   "outputs": [
    {
     "data": {
      "text/plain": [
       "5"
      ]
     },
     "execution_count": 30,
     "metadata": {},
     "output_type": "execute_result"
    }
   ],
   "source": [
    "f(4)"
   ]
  },
  {
   "cell_type": "code",
   "execution_count": 31,
   "id": "639678a2",
   "metadata": {},
   "outputs": [],
   "source": [
    "lst = [0, 5, 8, 3, 2, 1]"
   ]
  },
  {
   "cell_type": "code",
   "execution_count": 32,
   "id": "564fbcdc",
   "metadata": {},
   "outputs": [
    {
     "data": {
      "text/plain": [
       "<map at 0x19a18425970>"
      ]
     },
     "execution_count": 32,
     "metadata": {},
     "output_type": "execute_result"
    }
   ],
   "source": [
    "map(f, lst)"
   ]
  },
  {
   "cell_type": "code",
   "execution_count": 33,
   "id": "b1c9ea7e",
   "metadata": {},
   "outputs": [
    {
     "data": {
      "text/plain": [
       "[1, 6, 9, 4, 3, 2]"
      ]
     },
     "execution_count": 33,
     "metadata": {},
     "output_type": "execute_result"
    }
   ],
   "source": [
    "list(map(f, lst))"
   ]
  },
  {
   "cell_type": "code",
   "execution_count": 34,
   "id": "d87aa295",
   "metadata": {},
   "outputs": [],
   "source": [
    "a = []\n",
    "for i in lst:\n",
    "    a.append(f(i))"
   ]
  },
  {
   "cell_type": "code",
   "execution_count": 35,
   "id": "d8b3fc68",
   "metadata": {},
   "outputs": [
    {
     "data": {
      "text/plain": [
       "[1, 6, 9, 4, 3, 2]"
      ]
     },
     "execution_count": 35,
     "metadata": {},
     "output_type": "execute_result"
    }
   ],
   "source": [
    "a"
   ]
  },
  {
   "cell_type": "markdown",
   "id": "a8ebb1f9",
   "metadata": {},
   "source": [
    "### Find out square of given numbers in a list using lambda function"
   ]
  },
  {
   "cell_type": "code",
   "execution_count": 36,
   "id": "594c845b",
   "metadata": {},
   "outputs": [],
   "source": [
    "sqr = lambda n: n*n"
   ]
  },
  {
   "cell_type": "code",
   "execution_count": 37,
   "id": "71ad5312",
   "metadata": {},
   "outputs": [
    {
     "data": {
      "text/plain": [
       "[0, 5, 8, 3, 2, 1]"
      ]
     },
     "execution_count": 37,
     "metadata": {},
     "output_type": "execute_result"
    }
   ],
   "source": [
    "lst"
   ]
  },
  {
   "cell_type": "code",
   "execution_count": 38,
   "id": "55fc068d",
   "metadata": {},
   "outputs": [],
   "source": [
    "b = list(map(sqr, lst))"
   ]
  },
  {
   "cell_type": "code",
   "execution_count": 39,
   "id": "319b5047",
   "metadata": {},
   "outputs": [
    {
     "data": {
      "text/plain": [
       "[0, 25, 64, 9, 4, 1]"
      ]
     },
     "execution_count": 39,
     "metadata": {},
     "output_type": "execute_result"
    }
   ],
   "source": [
    "b"
   ]
  },
  {
   "cell_type": "markdown",
   "id": "99df5f0d",
   "metadata": {},
   "source": [
    "### Plotting mathematical functions"
   ]
  },
  {
   "cell_type": "code",
   "execution_count": 43,
   "id": "48ede69c",
   "metadata": {},
   "outputs": [],
   "source": [
    "import numpy as np"
   ]
  },
  {
   "cell_type": "code",
   "execution_count": 44,
   "id": "7da59753",
   "metadata": {},
   "outputs": [],
   "source": [
    "x = np.linspace(-1,1,20)"
   ]
  },
  {
   "cell_type": "code",
   "execution_count": 45,
   "id": "7082b63c",
   "metadata": {},
   "outputs": [
    {
     "data": {
      "text/plain": [
       "array([-1.        , -0.89473684, -0.78947368, -0.68421053, -0.57894737,\n",
       "       -0.47368421, -0.36842105, -0.26315789, -0.15789474, -0.05263158,\n",
       "        0.05263158,  0.15789474,  0.26315789,  0.36842105,  0.47368421,\n",
       "        0.57894737,  0.68421053,  0.78947368,  0.89473684,  1.        ])"
      ]
     },
     "execution_count": 45,
     "metadata": {},
     "output_type": "execute_result"
    }
   ],
   "source": [
    "x"
   ]
  },
  {
   "cell_type": "code",
   "execution_count": 46,
   "id": "99c14f40",
   "metadata": {},
   "outputs": [
    {
     "data": {
      "text/plain": [
       "0.1"
      ]
     },
     "execution_count": 46,
     "metadata": {},
     "output_type": "execute_result"
    }
   ],
   "source": [
    "(1-(-1))/20"
   ]
  },
  {
   "cell_type": "code",
   "execution_count": 47,
   "id": "ed904226",
   "metadata": {},
   "outputs": [],
   "source": [
    "f = lambda n : n**2"
   ]
  },
  {
   "cell_type": "code",
   "execution_count": 50,
   "id": "bfc091e5",
   "metadata": {},
   "outputs": [
    {
     "data": {
      "text/plain": [
       "array([1.        , 0.80055402, 0.6232687 , 0.46814404, 0.33518006,\n",
       "       0.22437673, 0.13573407, 0.06925208, 0.02493075, 0.00277008,\n",
       "       0.00277008, 0.02493075, 0.06925208, 0.13573407, 0.22437673,\n",
       "       0.33518006, 0.46814404, 0.6232687 , 0.80055402, 1.        ])"
      ]
     },
     "execution_count": 50,
     "metadata": {},
     "output_type": "execute_result"
    }
   ],
   "source": [
    "y = f(x)\n",
    "y"
   ]
  },
  {
   "cell_type": "code",
   "execution_count": 49,
   "id": "5d62c329",
   "metadata": {},
   "outputs": [
    {
     "data": {
      "text/plain": [
       "numpy.ndarray"
      ]
     },
     "execution_count": 49,
     "metadata": {},
     "output_type": "execute_result"
    }
   ],
   "source": [
    "type(x)"
   ]
  },
  {
   "cell_type": "code",
   "execution_count": 53,
   "id": "5188849b",
   "metadata": {},
   "outputs": [
    {
     "data": {
      "text/plain": [
       "[1.0,\n",
       " 0.8005540166204986,\n",
       " 0.6232686980609419,\n",
       " 0.46814404432132967,\n",
       " 0.33518005540166207,\n",
       " 0.22437673130193908,\n",
       " 0.1357340720221607,\n",
       " 0.06925207756232689,\n",
       " 0.02493074792243769,\n",
       " 0.0027700831024930804,\n",
       " 0.0027700831024930687,\n",
       " 0.02493074792243769,\n",
       " 0.06925207756232683,\n",
       " 0.13573407202216053,\n",
       " 0.22437673130193897,\n",
       " 0.33518005540166207,\n",
       " 0.4681440443213295,\n",
       " 0.6232686980609415,\n",
       " 0.8005540166204984,\n",
       " 1.0]"
      ]
     },
     "execution_count": 53,
     "metadata": {},
     "output_type": "execute_result"
    }
   ],
   "source": [
    "list(map(f,x))"
   ]
  },
  {
   "cell_type": "code",
   "execution_count": 54,
   "id": "7550173c",
   "metadata": {},
   "outputs": [
    {
     "data": {
      "image/png": "[encoded data removed]",
      "text/plain": [
       "<Figure size 432x288 with 1 Axes>"
      ]
     },
     "metadata": {
      "needs_background": "light"
     },
     "output_type": "display_data"
    }
   ],
   "source": [
    "import matplotlib.pyplot as plt\n",
    "plt.plot(x,y)\n",
    "plt.grid()\n",
    "plt.show()"
   ]
  },
  {
   "cell_type": "markdown",
   "id": "51309b81",
   "metadata": {},
   "source": [
    "### Write a function to plot any given function"
   ]
  },
  {
   "cell_type": "code",
   "execution_count": 55,
   "id": "92a61a0b",
   "metadata": {},
   "outputs": [],
   "source": [
    "import matplotlib.pyplot as plt\n",
    "def plot_function(f, xstart, xstop, div):\n",
    "    x = np.linspace(xstart, xstop, div)\n",
    "    y = list(map(f,x))\n",
    "    plt.plot(x,y)\n",
    "    plt.grid()\n",
    "    plt.show()"
   ]
  },
  {
   "cell_type": "code",
   "execution_count": 62,
   "id": "f117902d",
   "metadata": {},
   "outputs": [],
   "source": [
    "from math import sin, pi"
   ]
  },
  {
   "cell_type": "code",
   "execution_count": 57,
   "id": "8558fc5d",
   "metadata": {},
   "outputs": [
    {
     "data": {
      "text/plain": [
       "0.8414709848078965"
      ]
     },
     "execution_count": 57,
     "metadata": {},
     "output_type": "execute_result"
    }
   ],
   "source": [
    "sin(1)"
   ]
  },
  {
   "cell_type": "code",
   "execution_count": 63,
   "id": "81ebcbf5",
   "metadata": {},
   "outputs": [
    {
     "data": {
      "text/plain": [
       "3.141592653589793"
      ]
     },
     "execution_count": 63,
     "metadata": {},
     "output_type": "execute_result"
    }
   ],
   "source": [
    "pi"
   ]
  },
  {
   "cell_type": "code",
   "execution_count": 58,
   "id": "9c4f44e1",
   "metadata": {},
   "outputs": [
    {
     "data": {
      "text/plain": [
       "0.0"
      ]
     },
     "execution_count": 58,
     "metadata": {},
     "output_type": "execute_result"
    }
   ],
   "source": [
    "sin(0)"
   ]
  },
  {
   "cell_type": "code",
   "execution_count": 59,
   "id": "823c7eb1",
   "metadata": {},
   "outputs": [],
   "source": [
    "f = lambda x: sin(x)"
   ]
  },
  {
   "cell_type": "code",
   "execution_count": 64,
   "id": "1d34345c",
   "metadata": {},
   "outputs": [
    {
     "data": {
      "image/png": "[encoded data removed]",
      "text/plain": [
       "<Figure size 432x288 with 1 Axes>"
      ]
     },
     "metadata": {
      "needs_background": "light"
     },
     "output_type": "display_data"
    }
   ],
   "source": [
    "plot_function(f, 0, 2*pi, 100)"
   ]
  },
  {
   "cell_type": "code",
   "execution_count": 68,
   "id": "75816de4",
   "metadata": {},
   "outputs": [],
   "source": [
    "from math import cos\n",
    "f1 = lambda x: x*cos(x)"
   ]
  },
  {
   "cell_type": "code",
   "execution_count": 69,
   "id": "4f4720ce",
   "metadata": {},
   "outputs": [
    {
     "data": {
      "image/png": "[encoded data removed]",
      "text/plain": [
       "<Figure size 432x288 with 1 Axes>"
      ]
     },
     "metadata": {
      "needs_background": "light"
     },
     "output_type": "display_data"
    }
   ],
   "source": [
    "plot_function(f1,0,4*pi,100)"
   ]
  },
  {
   "cell_type": "code",
   "execution_count": null,
   "id": "e478cc6f",
   "metadata": {},
   "outputs": [],
   "source": []
  }
 ],
 "metadata": {
  "kernelspec": {
   "display_name": "Python 3 (ipykernel)",
   "language": "python",
   "name": "python3"
  },
  "language_info": {
   "codemirror_mode": {
    "name": "ipython",
    "version": 3
   },
   "file_extension": ".py",
   "mimetype": "text/x-python",
   "name": "python",
   "nbconvert_exporter": "python",
   "pygments_lexer": "ipython3",
   "version": "3.9.7"
  }
 },
 "nbformat": 4,
 "nbformat_minor": 5
}
